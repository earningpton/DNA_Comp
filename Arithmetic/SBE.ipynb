{
 "cells": [
  {
   "cell_type": "markdown",
   "metadata": {},
   "source": [
    "## Let's try Single Block Encoding Approach:\n",
    "\n",
    "Why? If the order of ATCG doesn't matter then Single block encoding is proven to be the best compression method possible! just have a table with all possible 13-bit encoding (8192 types) which cost at most 15 bytes$*$8192 = 123 kb then compress 11671499 by 13 times to a total of only 1020687 = 1.02 MB (This comes from minimize $11671499/x+ (x+2)*(2^x)$, note that 12-bit is also good). The idea is to solve file_size$/x+ (x+2)*(2^x)$ But this is not realistic since we still need to represent these 8192 types with one symbol each.\n",
    "\n",
    "For instance, we convert ATATGATCGA to 101001001, 110100,  101, 1 then to 2331, 123, 12, 1?"
   ]
  },
  {
   "cell_type": "code",
   "execution_count": 1,
   "metadata": {},
   "outputs": [
    {
     "name": "stdout",
     "output_type": "stream",
     "text": [
      "[15, 1, 0, 1, 0, 0, 0, 1, 0, 1, 0, 0, 0, 16, 1, 0, 0, 0, 1, 0, 0, 0, 14, 1, 1, 1, 1, 1, 1]\n"
     ]
    },
    {
     "data": {
      "text/plain": [
       "array([15., 16., 15., 14., 14., 14., 15., 16., 15., 14., 14., 14.])"
      ]
     },
     "execution_count": 1,
     "metadata": {},
     "output_type": "execute_result"
    }
   ],
   "source": [
    "from sbe import SBE_f,SBE_b,SBE_convert_f,SBE_convert_b\n",
    "\n",
    "temp = SBE_convert_f('ATCATASFEGATCG')\n",
    "SBE_convert_b(temp)\n",
    "\n",
    "temp = SBE_f([15,16,15,14,14,14,15,16,15,14,14,14])\n",
    "print(temp)\n",
    "SBE_b(temp)"
   ]
  },
  {
   "cell_type": "code",
   "execution_count": 2,
   "metadata": {},
   "outputs": [],
   "source": [
    "import arithc as arith\n",
    "import fqt, ppm\n",
    "import contextlib, sys\n",
    "import filecmp\n",
    "from IPython.display import clear_output"
   ]
  },
  {
   "cell_type": "code",
   "execution_count": 39,
   "metadata": {},
   "outputs": [
    {
     "name": "stdout",
     "output_type": "stream",
     "text": [
      "94 percent done\n"
     ]
    }
   ],
   "source": [
    "def SBEcompress(inp, bitout):\n",
    "    initfreqs = fqt.FlatFrequencyTable(257)\n",
    "    model = fqt.SimpleFrequencyTable(initfreqs)\n",
    "    enc = arith.ArithmeticCoder(32)\n",
    "    enc.start_encode(bitout) # New line!\n",
    "    s = []\n",
    "    while True:\n",
    "        symbol = inp.read(1)\n",
    "        if len(symbol) == 0:\n",
    "                break\n",
    "        s += [symbol[0]+2] ## leave room for 0,1\n",
    "    sbe = SBE_f(s)\n",
    "    sbe_list = sbe\n",
    "    print(len(sbe))\n",
    "    idx = 0\n",
    "#     # prior\n",
    "#     model.set(0,1000000)\n",
    "#     model.set(1,1000000)\n",
    "    while True:\n",
    "        # Read and encode one byte\n",
    "        if idx == len(sbe):\n",
    "            break\n",
    "        symbol = sbe_list[idx]\n",
    "        idx += 1\n",
    "        if idx % 1100000 == 0:\n",
    "            print(str(10*idx//(len(sbe)//10)) + ' percent done')\n",
    "            clear_output(wait = True)\n",
    "        t = model.get_total() ## New lines!\n",
    "        l = model.get_low(symbol)\n",
    "        h = model.get_high(symbol)\n",
    "        enc.storeRegion(l,h,t) \n",
    "        model.increment(symbol)\n",
    "    t = model.get_total() ## New lines!\n",
    "    l = model.get_low(256)\n",
    "    h = model.get_high(256)\n",
    "    enc.storeRegion(l,h,t)\n",
    "    enc.finish_encode(bitout)  # New line!\n",
    "inputfile, outputfile = 'data\\ecoli\\Ecoli.txt', 'data\\ecoli\\Ecoli_sbe_compressed.txt'\n",
    "\n",
    "#Perform file compression\n",
    "with open(inputfile, \"rb\") as inp, \\\n",
    "        contextlib.closing(arith.BitOutputStream(open(outputfile, \"wb\"))) as bitout:\n",
    "    SBEcompress(inp, bitout)"
   ]
  },
  {
   "cell_type": "code",
   "execution_count": 5,
   "metadata": {},
   "outputs": [
    {
     "name": "stdout",
     "output_type": "stream",
     "text": [
      "11671499\n",
      "4638690\n"
     ]
    },
    {
     "data": {
      "text/plain": [
       "True"
      ]
     },
     "execution_count": 5,
     "metadata": {},
     "output_type": "execute_result"
    }
   ],
   "source": [
    "def decompress(bitin, out):\n",
    "    initfreqs = fqt.FlatFrequencyTable(257)\n",
    "    model = fqt.SimpleFrequencyTable(initfreqs)\n",
    "    dec = arith.ArithmeticCoder(32)\n",
    "    dec.start_decode(bitin) # New line!\n",
    "    sbe = []\n",
    "    while True:\n",
    "        # Decode and write one byte\n",
    "        total = model.get_total()\n",
    "        Range = dec.R\n",
    "        offset = dec.getTarget()#dec.D - dec.L\n",
    "        #value_0 = ((offset + 1) * total - 1)// Range\n",
    "        value = dec.getTarget(total)\n",
    "\n",
    "        start = 0\n",
    "        end = model.get_symbol_limit()\n",
    "        while end - start > 1:\n",
    "            middle = (start + end) >> 1\n",
    "            if model.get_low(middle) > value:\n",
    "                end = middle\n",
    "            else:\n",
    "                start = middle\n",
    "\n",
    "        symbol = start\n",
    "\n",
    "        #self \n",
    "        l = model.get_low(symbol) \n",
    "        h = model.get_high(symbol)\n",
    "        dec.loadRegion(l,h,total)\n",
    "        #print(symbol)\n",
    "        model.increment(symbol)\n",
    "        if symbol == 256:  # EOF symbol\n",
    "            break\n",
    "        sbe += [symbol]\n",
    "    print(len(sbe))\n",
    "    s_temp = SBE_b(sbe)\n",
    "    s = [int(x - 2) for x in s_temp]\n",
    "    print(len(s))\n",
    "    for symbol in s:\n",
    "        out.write(bytes((symbol,)))\n",
    "    return sbe, s\n",
    "\n",
    "        \n",
    "inputfile, outputfile = 'data\\ecoli\\Fake_Ecoli_sbe_compressed.txt', 'data\\ecoli\\Fake_Ecoli_sbe_decompressed.txt'\n",
    "\n",
    "# Perform file decompression\n",
    "with open(inputfile, \"rb\") as inp, open(outputfile, \"wb\") as out:\n",
    "    bitin = arith.BitInputStream(inp)\n",
    "    sbe, s = decompress(bitin, out)\n",
    "\n",
    "\n",
    "filecmp.cmp('data\\ecoli\\Fake_Ecoli.txt', 'data\\ecoli\\Fake_Ecoli_sbe_decompressed.txt')"
   ]
  },
  {
   "cell_type": "markdown",
   "metadata": {},
   "source": [
    "## Let's split the file altogether, so it could take less space\n",
    "\n",
    "By splitting A1001T10C1 into A4T2C and 100110, it's much easier to save space by turning the whole sequence into 2 separate file. We can discard number in last letter altogether!"
   ]
  },
  {
   "cell_type": "code",
   "execution_count": 1,
   "metadata": {},
   "outputs": [
    {
     "name": "stdout",
     "output_type": "stream",
     "text": [
      "[15, 12, 16, 8, 14, 6]\n",
      "[1, 0, 1, 0, 0, 0, 1, 0, 1, 0, 0, 0, 1, 0, 0, 0, 1, 0, 0, 0]\n"
     ]
    },
    {
     "data": {
      "text/plain": [
       "array([15., 16., 15., 14., 14., 14., 15., 16., 15., 14., 14., 14.])"
      ]
     },
     "execution_count": 1,
     "metadata": {},
     "output_type": "execute_result"
    }
   ],
   "source": [
    "from sbe import SBE_f,SBE_b,SBE_convert_f,SBE_convert_b,SBE_f_2file,SBE_b_2file\n",
    "\n",
    "temp = SBE_convert_f('ATCATASFEGATCG')\n",
    "SBE_convert_b(temp)\n",
    "\n",
    "temp1,temp2 = SBE_f_2file([15,16,15,14,14,14,15,16,15,14,14,14])\n",
    "print(temp1)\n",
    "print(temp2)\n",
    "SBE_b_2file(temp1,temp2)"
   ]
  },
  {
   "cell_type": "code",
   "execution_count": 2,
   "metadata": {},
   "outputs": [],
   "source": [
    "import arithc as arith\n",
    "import fqt, ppm\n",
    "import contextlib, sys\n",
    "import filecmp\n",
    "from IPython.display import clear_output"
   ]
  },
  {
   "cell_type": "code",
   "execution_count": 3,
   "metadata": {},
   "outputs": [
    {
     "name": "stdout",
     "output_type": "stream",
     "text": [
      "100 percent done\n"
     ]
    }
   ],
   "source": [
    "def SBEcompress(inp, bitout):\n",
    "    initfreqs = fqt.FlatFrequencyTable(257)\n",
    "    model = fqt.SimpleFrequencyTable(initfreqs)\n",
    "    enc = arith.ArithmeticCoder(32)\n",
    "    enc.start_encode(bitout) # New line!\n",
    "    s = []\n",
    "    while True:\n",
    "        symbol = inp.read(1)\n",
    "        if len(symbol) == 0:\n",
    "                break\n",
    "        s += [symbol[0]+2] ## leave room for 0,1!, Dont worry, we only compress 0,1\n",
    "    sbe1,sbe2 = SBE_f_2file(s)\n",
    "    print(len(sbe2))\n",
    "    idx1 = 1\n",
    "    idx2 = 0\n",
    "    curr_size = sbe1[idx1]\n",
    "    # prior (25,75) then (25,50) then (25,25)\n",
    "#    k = len(sbe1)//2 # for DNA, k = 4\n",
    "#     model.set(0, (k-1)*sbe1[idx1]//k)\n",
    "#     model.set(1, sbe1[idx1]//k)\n",
    "\n",
    "    model.set(1, sbe1[idx1]-sbe1[idx1+2])\n",
    "    model.set(0, sbe1[idx1+2])\n",
    "    print(model.get(1))\n",
    "    print(model.get(0))\n",
    "    while True:\n",
    "        # Read and encode one byte\n",
    "        if idx2 == len(sbe2):\n",
    "            break\n",
    "        symbol = sbe2[idx2]\n",
    "        #print(symbol)\n",
    "        idx2 += 1\n",
    "        if idx2 % (len(sbe2)//10) == 0:\n",
    "            print(str(10*idx2//(len(sbe2)//10)) + ' percent done')\n",
    "            clear_output(wait = True)\n",
    "        \n",
    "        if idx2 > curr_size:\n",
    "            #k -= 1\n",
    "            idx1 += 2\n",
    "            model.set(1, sbe1[idx1]-sbe1[idx1+2])\n",
    "            model.set(0, sbe1[idx1+2])\n",
    "            print(model.get(1))\n",
    "            print(model.get(0))\n",
    "            \n",
    "            curr_size += sbe1[idx1]\n",
    "            \n",
    "        t = model.get_total() ## New lines!\n",
    "        l = model.get_low(symbol)\n",
    "        h = model.get_high(symbol)\n",
    "        enc.storeRegion(l,h,t) \n",
    "        model.set(symbol, model.get(symbol)-1)\n",
    "#         model.frequencies[symbol] -= 1\n",
    "#         model.total -= 1\n",
    "        #model.increment(symbol)\n",
    "    t = model.get_total() ## New lines!\n",
    "    l = model.get_low(256)\n",
    "    h = model.get_high(256)\n",
    "    enc.storeRegion(l,h,t)\n",
    "    enc.finish_encode(bitout)  # New line!\n",
    "    \n",
    "    return sbe1\n",
    "\n",
    "inputfile, outputfile = 'data\\ecoli\\Fake_Ecoli.txt', 'data\\ecoli\\Fake_Ecoli_sbe2.txt'\n",
    "companionfile = 'data\\ecoli\\companion_Fake_Ecoli_sbe2.txt'\n",
    "#Perform file compression\n",
    "with open(inputfile, \"rb\") as inp, \\\n",
    "        contextlib.closing(arith.BitOutputStream(open(outputfile, \"wb\"))) as bitout:\n",
    "    sbe1 = SBEcompress(inp, bitout)\n",
    "    with open(companionfile, \"w\") as text_file:\n",
    "        text_file.write(str(sbe1))\n",
    "    "
   ]
  },
  {
   "cell_type": "markdown",
   "metadata": {},
   "source": [
    "## This is the same as if compressed using the table, of course it is better than bzip2 and gzip but not as good as gtz"
   ]
  },
  {
   "cell_type": "code",
   "execution_count": null,
   "metadata": {},
   "outputs": [],
   "source": []
  },
  {
   "cell_type": "code",
   "execution_count": null,
   "metadata": {},
   "outputs": [],
   "source": []
  }
 ],
 "metadata": {
  "kernelspec": {
   "display_name": "Python 3",
   "language": "python",
   "name": "python3"
  },
  "language_info": {
   "codemirror_mode": {
    "name": "ipython",
    "version": 3
   },
   "file_extension": ".py",
   "mimetype": "text/x-python",
   "name": "python",
   "nbconvert_exporter": "python",
   "pygments_lexer": "ipython3",
   "version": "3.7.6"
  }
 },
 "nbformat": 4,
 "nbformat_minor": 4
}
