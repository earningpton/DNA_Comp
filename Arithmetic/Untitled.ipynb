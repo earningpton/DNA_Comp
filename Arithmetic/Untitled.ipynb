{
 "cells": [
  {
   "cell_type": "markdown",
   "metadata": {},
   "source": [
    "## Let's try Repeating Substitution Approach then 3-Gram Approach\n",
    "\n",
    "For instance, we convert ATATGATCGACGA to AT2GATCGA3\n",
    "\n",
    "Why? From EDA, each ecoli split 25%, we observe that about 10% is 2 repeat so 1/10 < $1/4 * 1/4$. About 5% is 3 repeat so 1/20 < 1/4 * 1/4 * 1/4. 4-repeat, however, is only 1.25% 1/80 < 1/256. 5-repeat is 0.5% but 6-repeat is much same as 5-repeat in ecoli but much lower in fake EColi"
   ]
  },
  {
   "cell_type": "code",
   "execution_count": 1,
   "metadata": {},
   "outputs": [],
   "source": [
    "import arithc as arith\n",
    "import fqt, ppm\n",
    "import contextlib, sys\n",
    "import filecmp\n",
    "from IPython.display import clear_output"
   ]
  },
  {
   "cell_type": "code",
   "execution_count": null,
   "metadata": {},
   "outputs": [],
   "source": [
    "def R_f(s: List[int], order: List[int] = None)-> List[int]:\n",
    "    # converts ATATGATCGACGA to AT2GATCGA3\n",
    "    s_arr = np.array(s)\n",
    "    r = [] # list\n",
    "    i = 0\n",
    "    j = 0\n",
    "    if order is None:\n",
    "        order = [2]\n",
    "    while j < len(order):\n",
    "        cur_lag = order[j]\n",
    "        checklist = np.zeros([len(s_arr)])\n",
    "        checklist[cur_lag:] = (s_arr[:-1*cur_lag]==s_arr[cur_lag:])\n",
    "        \n",
    "        \n",
    "        cur_block = s_arr[i]\n",
    "        sbe += [cur_block]\n",
    "        checklist = (np.ones([len(s_arr)])*cur_block==s_arr)\n",
    "        s_arr = s_arr[~checklist]\n",
    "        sbe += list(checklist*1)\n",
    "        i= 0\n",
    "        j += 1\n",
    "    return sbe"
   ]
  }
 ],
 "metadata": {
  "kernelspec": {
   "display_name": "Python 3",
   "language": "python",
   "name": "python3"
  },
  "language_info": {
   "codemirror_mode": {
    "name": "ipython",
    "version": 3
   },
   "file_extension": ".py",
   "mimetype": "text/x-python",
   "name": "python",
   "nbconvert_exporter": "python",
   "pygments_lexer": "ipython3",
   "version": "3.7.4"
  }
 },
 "nbformat": 4,
 "nbformat_minor": 2
}
