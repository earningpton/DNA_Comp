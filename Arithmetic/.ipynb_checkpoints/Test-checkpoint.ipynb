{
 "cells": [
  {
   "cell_type": "code",
   "execution_count": 1,
   "metadata": {},
   "outputs": [],
   "source": [
    "import arith, fqt, ppm\n",
    "import contextlib, sys"
   ]
  },
  {
   "cell_type": "markdown",
   "metadata": {},
   "source": [
    "## Test modified Nayuki's Artihmetic Coder"
   ]
  },
  {
   "cell_type": "code",
   "execution_count": 2,
   "metadata": {},
   "outputs": [],
   "source": [
    "def get_frequencies(filepath):\n",
    "    model = fqt.SimpleFrequencyTable([0] * 257)\n",
    "    with open(filepath, \"rb\") as input:\n",
    "        while True:\n",
    "            b = input.read(1)\n",
    "            if len(b) == 0:\n",
    "                break\n",
    "            model.increment(b[0])\n",
    "    return model\n",
    "\n",
    "\n",
    "def write_frequencies(bitout, model):\n",
    "    for i in range(256):\n",
    "        write_int(bitout, 32, model.get(i))\n",
    "def write_int(bitout, numbits, value):\n",
    "    for i in reversed(range(numbits)):\n",
    "        bitout.write((value >> i) & 1)  \n",
    "\n",
    "def compress(model, inp, bitout):\n",
    "    enc = arith.ArithmeticCoder(32)\n",
    "    enc.start_encode(bitout) ## New line!\n",
    "    while True:\n",
    "        symbol = inp.read(1)\n",
    "        if len(symbol) == 0:\n",
    "            break\n",
    "        t = model.get_total() ## New lines!\n",
    "        l = model.get_low(symbol[0])\n",
    "        h = model.get_high(symbol[0])\n",
    "        enc.storeRegion(l, h, t) \n",
    "    t = model.get_total()\n",
    "    l = model.get_low(256)\n",
    "    h = model.get_high(256)\n",
    "    enc.storeRegion(l, h, t)\n",
    "    enc.finish_encode()  \n",
    "\n",
    "inputfile, outputfile = 'testdata\\gattaca.txt', 'testdata\\gattaca_compressed.txt'\n",
    "\n",
    "# Read input file once to compute symbol frequencies\n",
    "model = get_frequencies(inputfile)\n",
    "model.increment(256)  # EOF symbol gets a frequency of 1\n",
    "\n",
    "# Read input file again, compress with arithmetic coding, and write output file\n",
    "with open(inputfile, \"rb\") as inp, \\\n",
    "        contextlib.closing(arith.BitOutputStream(open(outputfile, \"wb\"))) as bitout:\n",
    "    write_frequencies(bitout, model)\n",
    "    compress(model, inp, bitout)\n"
   ]
  },
  {
   "cell_type": "code",
   "execution_count": 3,
   "metadata": {},
   "outputs": [
    {
     "data": {
      "text/plain": [
       "True"
      ]
     },
     "execution_count": 3,
     "metadata": {},
     "output_type": "execute_result"
    }
   ],
   "source": [
    "def read_frequencies(bitin):\n",
    "    def read_int(n):\n",
    "        result = 0\n",
    "        for _ in range(n):\n",
    "            result = (result << 1) | bitin.read_no_eof()  # Big endian\n",
    "        return result\n",
    "\n",
    "    freqs = [read_int(32) for _ in range(256)]\n",
    "    freqs.append(1)  # EOF symbol\n",
    "    return fqt.SimpleFrequencyTable(freqs)\n",
    "\n",
    "\n",
    "def decompress(model, bitin, out):\n",
    "    dec = arith.ArithmeticCoder(32)\n",
    "    dec.start_decode(bitin) ## New line!\n",
    "    while True:\n",
    "        symbol = dec.loadRegion_binary(model)\n",
    "        if symbol == 256:  # EOF symbol\n",
    "            break\n",
    "        out.write(bytes((symbol,)))\n",
    "        \n",
    "inputfile, outputfile = 'testdata\\gattaca_compressed.txt', 'testdata\\gattaca_decompressed.txt'\n",
    "\n",
    "# Perform file decompression\n",
    "with open(outputfile, \"wb\") as out, open(inputfile, \"rb\") as inp:\n",
    "    bitin = arith.BitInputStream(inp)\n",
    "    model = read_frequencies(bitin)\n",
    "    decompress(model, bitin, out)\n",
    "    \n",
    "import filecmp\n",
    "filecmp.cmp('testdata\\gattaca.txt', 'testdata\\gattaca_decompressed.txt')"
   ]
  },
  {
   "cell_type": "markdown",
   "metadata": {},
   "source": [
    "## Let's try more adaptive (update as we go model)"
   ]
  },
  {
   "cell_type": "code",
   "execution_count": 4,
   "metadata": {},
   "outputs": [],
   "source": [
    "def compress(inp, bitout):\n",
    "    initfreqs = fqt.FlatFrequencyTable(257)\n",
    "    model = fqt.SimpleFrequencyTable(initfreqs)\n",
    "    enc = arith.ArithmeticCoder(32)\n",
    "    enc.start_encode(bitout) # New line!\n",
    "    while True:\n",
    "        # Read and encode one byte\n",
    "        symbol = inp.read(1)\n",
    "        if len(symbol) == 0:\n",
    "            break\n",
    "        t = model.get_total() ## New lines!\n",
    "        l = model.get_low(symbol[0])\n",
    "        h = model.get_high(symbol[0])\n",
    "        enc.storeRegion(l, h, t) \n",
    "        model.increment(symbol[0])\n",
    "    t = model.get_total() ## New lines!\n",
    "    l = model.get_low(256)\n",
    "    h = model.get_high(256)\n",
    "    enc.storeRegion(l, h, t)\n",
    "    enc.finish_encode()  # New line!\n",
    "inputfile, outputfile = 'testdata\\gattaca.txt', 'testdata\\gattaca_ad_compressed.txt'\n",
    "\n",
    "# Perform file compression\n",
    "with open(inputfile, \"rb\") as inp, \\\n",
    "        contextlib.closing(arith.BitOutputStream(open(outputfile, \"wb\"))) as bitout:\n",
    "    compress(inp, bitout)\n",
    "\n"
   ]
  },
  {
   "cell_type": "code",
   "execution_count": 5,
   "metadata": {},
   "outputs": [
    {
     "data": {
      "text/plain": [
       "True"
      ]
     },
     "execution_count": 5,
     "metadata": {},
     "output_type": "execute_result"
    }
   ],
   "source": [
    "def decompress(bitin, out):\n",
    "    initfreqs = fqt.FlatFrequencyTable(257)\n",
    "    model = fqt.SimpleFrequencyTable(initfreqs)\n",
    "    dec = arith.ArithmeticCoder(32)\n",
    "    dec.start_decode(bitin) # New line!\n",
    "    while True:\n",
    "        # Decode and write one byte\n",
    "        symbol = dec.loadRegion_binary(model)\n",
    "        if symbol == 256:  # EOF symbol\n",
    "            break\n",
    "        out.write(bytes((symbol,)))\n",
    "        model.increment(symbol)\n",
    "        \n",
    "inputfile, outputfile = 'testdata\\gattaca_ad_compressed.txt', 'testdata\\gattaca_ad_decompressed.txt'\n",
    "\n",
    "# Perform file decompression\n",
    "with open(inputfile, \"rb\") as inp, open(outputfile, \"wb\") as out:\n",
    "    bitin = arith.BitInputStream(inp)\n",
    "    decompress(bitin, out)\n",
    "\n",
    "\n",
    "filecmp.cmp('testdata\\gattaca.txt', 'testdata\\gattaca_ad_decompressed.txt')"
   ]
  },
  {
   "cell_type": "markdown",
   "metadata": {},
   "source": [
    "## Let's try ppm model"
   ]
  },
  {
   "cell_type": "code",
   "execution_count": 17,
   "metadata": {},
   "outputs": [],
   "source": [
    "import ppm\n",
    "def compress(inp, bitout):\n",
    "    enc = arith.ArithmeticCoder(32)\n",
    "    enc.start_encode(bitout)\n",
    "    model = ppm.PpmModel(MODEL_ORDER, 257, 256)\n",
    "    history = []\n",
    "    while True:\n",
    "        # Read and encode one byte\n",
    "        symbol = inp.read(1)\n",
    "        if len(symbol) == 0:\n",
    "            break\n",
    "        symbol = symbol[0]\n",
    "        encode_symbol(model, history, symbol, enc)\n",
    "        model.increment_contexts(history, symbol)\n",
    "        if model.model_order >= 1:\n",
    "            # Prepend current symbol, dropping oldest symbol if necessary\n",
    "            if len(history) == model.model_order:\n",
    "                history.pop()\n",
    "            history.insert(0, symbol)\n",
    "\n",
    "    encode_symbol(model, history, 256, enc)  # EOF\n",
    "    enc.finish_encode()  # New line!\n",
    "def encode_symbol(model, history, symbol, enc):\n",
    "    for order in reversed(range(len(history) + 1)):\n",
    "        ctx = model.root_context\n",
    "        for sym in history[ : order]:\n",
    "            assert ctx.subcontexts is not None\n",
    "            ctx = ctx.subcontexts[sym]\n",
    "            if ctx is None:\n",
    "                break\n",
    "        else:  # ctx is not None\n",
    "            if symbol != 256 and ctx.frequencies.get(symbol) > 0:\n",
    "                t = ctx.frequencies.get_total() ## New lines!\n",
    "                l = ctx.frequencies.get_low(symbol)\n",
    "                h = ctx.frequencies.get_high(symbol)\n",
    "                enc.storeRegion(l, h, t) \n",
    "                return\n",
    "            # Else write context escape symbol and continue decrementing the order\n",
    "            t = ctx.frequencies.get_total() ## New lines!\n",
    "            l = ctx.frequencies.get_low(256)\n",
    "            h = ctx.frequencies.get_high(256)\n",
    "            enc.storeRegion(l, h, t) \n",
    "    # Logic for order = -1\n",
    "    t = model.order_minus1_freqs.get_total() ## New lines!\n",
    "    l = model.order_minus1_freqs.get_low(symbol)\n",
    "    h = model.order_minus1_freqs.get_high(symbol)\n",
    "    enc.storeRegion(l, h, t) \n",
    "    \n",
    "# Must be at least -1 and match ppm-decompress.py. Warning: Exponential memory usage at O(257^n).\n",
    "MODEL_ORDER = 2\n",
    "inputfile, outputfile = 'testdata\\gattaca.txt', 'testdata\\gattaca_ppm_compressed.txt'\n",
    "# Perform file compression\n",
    "with open(inputfile, \"rb\") as inp, \\\n",
    "        contextlib.closing(arith.BitOutputStream(open(outputfile, \"wb\"))) as bitout:\n",
    "    compress(inp, bitout)"
   ]
  },
  {
   "cell_type": "code",
   "execution_count": 19,
   "metadata": {},
   "outputs": [
    {
     "data": {
      "text/plain": [
       "True"
      ]
     },
     "execution_count": 19,
     "metadata": {},
     "output_type": "execute_result"
    }
   ],
   "source": [
    "def decompress(bitin, out):\n",
    "    dec = arith.ArithmeticCoder(32)\n",
    "    dec.start_decode(bitin)\n",
    "    model = ppm.PpmModel(MODEL_ORDER, 257, 256)\n",
    "    history = []\n",
    "\n",
    "    while True:\n",
    "        # Decode and write one byte\n",
    "        symbol = decode_symbol(dec, model, history)\n",
    "        if symbol == 256:  # EOF symbol\n",
    "            break\n",
    "        out.write(bytes((symbol,)))\n",
    "        model.increment_contexts(history, symbol)\n",
    "\n",
    "        if model.model_order >= 1:\n",
    "            # Prepend current symbol, dropping oldest symbol if necessary\n",
    "            if len(history) == model.model_order:\n",
    "                history.pop()\n",
    "            history.insert(0, symbol)\n",
    "def decode_symbol(dec, model, history):\n",
    "    for order in reversed(range(len(history) + 1)):\n",
    "        ctx = model.root_context\n",
    "        for sym in history[ : order]:\n",
    "            assert ctx.subcontexts is not None\n",
    "            ctx = ctx.subcontexts[sym]\n",
    "            if ctx is None:\n",
    "                break\n",
    "        else:  # ctx is not None\n",
    "            symbol = dec.loadRegion_binary(ctx.frequencies)\n",
    "            if symbol < 256:\n",
    "                return symbol\n",
    "    return dec.loadRegion_binary(model.order_minus1_freqs)\n",
    "# Must be at least -1 and match ppm-compress.py. Warning: Exponential memory usage at O(257^n).\n",
    "MODEL_ORDER = 2\n",
    "inputfile, outputfile = 'testdata\\gattaca_ppm_compressed.txt', 'testdata\\gattaca_ppm_decompressed.txt'\n",
    "\n",
    "# Perform file decompression\n",
    "with open(inputfile, \"rb\") as inp, open(outputfile, \"wb\") as out:\n",
    "    bitin = arith.BitInputStream(inp)\n",
    "    decompress(bitin, out)\n",
    "\n",
    "\n",
    "filecmp.cmp('testdata\\gattaca.txt', 'testdata\\gattaca_ppm_decompressed.txt')"
   ]
  },
  {
   "cell_type": "code",
   "execution_count": null,
   "metadata": {},
   "outputs": [],
   "source": []
  }
 ],
 "metadata": {
  "kernelspec": {
   "display_name": "Python 3",
   "language": "python",
   "name": "python3"
  },
  "language_info": {
   "codemirror_mode": {
    "name": "ipython",
    "version": 3
   },
   "file_extension": ".py",
   "mimetype": "text/x-python",
   "name": "python",
   "nbconvert_exporter": "python",
   "pygments_lexer": "ipython3",
   "version": "3.7.4"
  }
 },
 "nbformat": 4,
 "nbformat_minor": 2
}
